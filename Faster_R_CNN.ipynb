{
  "nbformat": 4,
  "nbformat_minor": 0,
  "metadata": {
    "colab": {
      "provenance": []
    },
    "kernelspec": {
      "name": "python3",
      "display_name": "Python 3"
    },
    "language_info": {
      "name": "python"
    }
  },
  "cells": [
    {
      "cell_type": "code",
      "execution_count": null,
      "metadata": {
        "id": "XWUBxeGFoecd"
      },
      "outputs": [],
      "source": [
        "import torch\n",
        "from torchvision import datasets, transforms\n",
        "from torchvision.models.detection import fasterrcnn_resnet50_fpn\n",
        "from torch.utils.data import DataLoader\n",
        "from torchvision.models.detection.faster_rcnn import FastRCNNPredictor"
      ]
    },
    {
      "cell_type": "code",
      "source": [
        "# Define the Faster R-CNN architecture\n",
        "model = fasterrcnn_resnet50_fpn(pretrained=True)\n",
        "\n",
        "# Modify the roi_heads module to return 2 values\n",
        "in_features = model.roi_heads.box_predictor.cls_score.in_features\n",
        "num_classes = 10  # MNIST has 10 classes\n",
        "model.roi_heads.box_predictor = FastRCNNPredictor(in_features, num_classes + 1)  # +1 for the background class"
      ],
      "metadata": {
        "id": "i8fmeekaorP2",
        "colab": {
          "base_uri": "https://localhost:8080/"
        },
        "outputId": "f27d914e-5ab9-440c-8b42-b2d6dca2e464"
      },
      "execution_count": null,
      "outputs": [
        {
          "output_type": "stream",
          "name": "stderr",
          "text": [
            "/usr/local/lib/python3.10/dist-packages/torchvision/models/_utils.py:208: UserWarning: The parameter 'pretrained' is deprecated since 0.13 and may be removed in the future, please use 'weights' instead.\n",
            "  warnings.warn(\n",
            "/usr/local/lib/python3.10/dist-packages/torchvision/models/_utils.py:223: UserWarning: Arguments other than a weight enum or `None` for 'weights' are deprecated since 0.13 and may be removed in the future. The current behavior is equivalent to passing `weights=FasterRCNN_ResNet50_FPN_Weights.COCO_V1`. You can also use `weights=FasterRCNN_ResNet50_FPN_Weights.DEFAULT` to get the most up-to-date weights.\n",
            "  warnings.warn(msg)\n",
            "Downloading: \"https://download.pytorch.org/models/fasterrcnn_resnet50_fpn_coco-258fb6c6.pth\" to /root/.cache/torch/hub/checkpoints/fasterrcnn_resnet50_fpn_coco-258fb6c6.pth\n",
            "100%|██████████| 160M/160M [00:01<00:00, 137MB/s]\n"
          ]
        }
      ]
    },
    {
      "cell_type": "code",
      "source": [
        "# Preprocess the MNIST dataset\n",
        "transform = transforms.Compose([\n",
        "    transforms.Resize((300, 300)),\n",
        "    transforms.ToTensor(),\n",
        "])\n",
        "\n",
        "trainset = datasets.MNIST(root='C:/Users/hp/Downloads/archive (1)', train=True, download=True, transform=transform)\n",
        "testset = datasets.MNIST(root='C:/Users/hp/Downloads/archive (1)', train=False, download=True, transform=transform)\n",
        "\n",
        "trainloader = DataLoader(trainset, batch_size=4, shuffle=True)\n",
        "testloader = DataLoader(testset, batch_size=4, shuffle=False)\n"
      ],
      "metadata": {
        "id": "-r3RyQ56pJEV",
        "colab": {
          "base_uri": "https://localhost:8080/"
        },
        "outputId": "7883c9c4-583f-417a-bfeb-7b00ce3b26cf"
      },
      "execution_count": null,
      "outputs": [
        {
          "output_type": "stream",
          "name": "stdout",
          "text": [
            "Downloading http://yann.lecun.com/exdb/mnist/train-images-idx3-ubyte.gz\n",
            "Downloading http://yann.lecun.com/exdb/mnist/train-images-idx3-ubyte.gz to C:/Users/hp/Downloads/archive (1)/MNIST/raw/train-images-idx3-ubyte.gz\n"
          ]
        },
        {
          "output_type": "stream",
          "name": "stderr",
          "text": [
            "100%|██████████| 9912422/9912422 [00:00<00:00, 162878487.65it/s]"
          ]
        },
        {
          "output_type": "stream",
          "name": "stdout",
          "text": [
            "Extracting C:/Users/hp/Downloads/archive (1)/MNIST/raw/train-images-idx3-ubyte.gz to C:/Users/hp/Downloads/archive (1)/MNIST/raw\n"
          ]
        },
        {
          "output_type": "stream",
          "name": "stderr",
          "text": [
            "\n"
          ]
        },
        {
          "output_type": "stream",
          "name": "stdout",
          "text": [
            "\n",
            "Downloading http://yann.lecun.com/exdb/mnist/train-labels-idx1-ubyte.gz\n",
            "Downloading http://yann.lecun.com/exdb/mnist/train-labels-idx1-ubyte.gz to C:/Users/hp/Downloads/archive (1)/MNIST/raw/train-labels-idx1-ubyte.gz\n"
          ]
        },
        {
          "output_type": "stream",
          "name": "stderr",
          "text": [
            "100%|██████████| 28881/28881 [00:00<00:00, 96908555.06it/s]"
          ]
        },
        {
          "output_type": "stream",
          "name": "stdout",
          "text": [
            "Extracting C:/Users/hp/Downloads/archive (1)/MNIST/raw/train-labels-idx1-ubyte.gz to C:/Users/hp/Downloads/archive (1)/MNIST/raw\n",
            "\n",
            "Downloading http://yann.lecun.com/exdb/mnist/t10k-images-idx3-ubyte.gz\n"
          ]
        },
        {
          "output_type": "stream",
          "name": "stderr",
          "text": [
            "\n"
          ]
        },
        {
          "output_type": "stream",
          "name": "stdout",
          "text": [
            "Downloading http://yann.lecun.com/exdb/mnist/t10k-images-idx3-ubyte.gz to C:/Users/hp/Downloads/archive (1)/MNIST/raw/t10k-images-idx3-ubyte.gz\n"
          ]
        },
        {
          "output_type": "stream",
          "name": "stderr",
          "text": [
            "100%|██████████| 1648877/1648877 [00:00<00:00, 46227057.53it/s]\n"
          ]
        },
        {
          "output_type": "stream",
          "name": "stdout",
          "text": [
            "Extracting C:/Users/hp/Downloads/archive (1)/MNIST/raw/t10k-images-idx3-ubyte.gz to C:/Users/hp/Downloads/archive (1)/MNIST/raw\n",
            "\n",
            "Downloading http://yann.lecun.com/exdb/mnist/t10k-labels-idx1-ubyte.gz\n",
            "Downloading http://yann.lecun.com/exdb/mnist/t10k-labels-idx1-ubyte.gz to C:/Users/hp/Downloads/archive (1)/MNIST/raw/t10k-labels-idx1-ubyte.gz\n"
          ]
        },
        {
          "output_type": "stream",
          "name": "stderr",
          "text": [
            "100%|██████████| 4542/4542 [00:00<00:00, 5781647.58it/s]"
          ]
        },
        {
          "output_type": "stream",
          "name": "stdout",
          "text": [
            "Extracting C:/Users/hp/Downloads/archive (1)/MNIST/raw/t10k-labels-idx1-ubyte.gz to C:/Users/hp/Downloads/archive (1)/MNIST/raw\n",
            "\n"
          ]
        },
        {
          "output_type": "stream",
          "name": "stderr",
          "text": [
            "\n"
          ]
        }
      ]
    },
    {
      "cell_type": "code",
      "source": [
        "# Train the Faster R-CNN model\n",
        "device = torch.device(\"cuda\" if torch.cuda.is_available() else \"cpu\")\n",
        "model.to(device)\n",
        "\n",
        "optimizer = torch.optim.SGD(model.parameters(), lr=0.005, momentum=0.9)\n",
        "num_epochs = 5\n",
        "\n",
        "for epoch in range(num_epochs):\n",
        "    model.train()\n",
        "    for images, targets in trainloader:\n",
        "        images = [img.to(device) for img in images]\n",
        "\n",
        "        targets_list = []\n",
        "        for target in targets:\n",
        "            if isinstance(target, dict) and \"boxes\" in target and \"labels\" in target:\n",
        "                target_dict = {\n",
        "                    \"boxes\": target[\"boxes\"].to(device),\n",
        "                    \"labels\": target[\"labels\"].to(device)\n",
        "                }\n",
        "                targets_list.append(target_dict)\n",
        "\n",
        "        if len(targets_list) > 0:\n",
        "            optimizer.zero_grad()\n",
        "            loss_dict = model(images, targets_list)\n",
        "            losses = sum(loss for loss in loss_dict.values())\n",
        "            losses.backward()\n",
        "            optimizer.step()\n",
        "\n",
        "    print(f\"Epoch {epoch + 1}/{num_epochs} complete.\")\n",
        "\n",
        "print(\"Classifier training complete.\")"
      ],
      "metadata": {
        "id": "70l3nbvKwbBg",
        "colab": {
          "base_uri": "https://localhost:8080/"
        },
        "outputId": "91efafdb-f673-4ea6-ddc5-4dc59f56fb51"
      },
      "execution_count": null,
      "outputs": [
        {
          "output_type": "stream",
          "name": "stdout",
          "text": [
            "Epoch 1/5 complete.\n",
            "Epoch 2/5 complete.\n",
            "Epoch 3/5 complete.\n",
            "Epoch 4/5 complete.\n",
            "Epoch 5/5 complete.\n",
            "Classifier training complete.\n"
          ]
        }
      ]
    },
    {
      "cell_type": "code",
      "source": [
        "model.eval()\n",
        "\n",
        "all_labels = []\n",
        "all_predictions = []\n",
        "\n",
        "with torch.no_grad():\n",
        "    for images, targets in testloader:\n",
        "        images = [img.to(device) for img in images]\n",
        "\n",
        "        outputs = model(images)\n",
        "\n",
        "        # Assume targets are tensors\n",
        "        for output, target in zip(outputs, targets):\n",
        "            if target.ndim > 0:\n",
        "                _, predicted = torch.max(output[\"labels\"], -1)\n",
        "                all_labels.extend(target.cpu().numpy())\n",
        "                all_predictions.extend(predicted.cpu().numpy())\n",
        "\n",
        "\n",
        "# Calculate accuracy\n",
        "correct = sum(1 for true, pred in zip(all_labels, all_predictions) if true == pred)\n",
        "total = len(all_labels)\n",
        "accuracy = correct / total\n",
        "print(f'Accuracy on test set: {accuracy * 100:.2f}%')"
      ],
      "metadata": {
        "id": "zmnbIZ0jxKMk"
      },
      "execution_count": null,
      "outputs": []
    },
    {
      "cell_type": "code",
      "source": [],
      "metadata": {
        "id": "mXxDUayrxPxj"
      },
      "execution_count": null,
      "outputs": []
    },
    {
      "cell_type": "code",
      "source": [],
      "metadata": {
        "id": "37dfBrdqxSZL"
      },
      "execution_count": null,
      "outputs": []
    }
  ]
}